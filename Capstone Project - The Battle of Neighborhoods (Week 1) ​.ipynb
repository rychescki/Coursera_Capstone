{
 "cells": [
  {
   "cell_type": "markdown",
   "metadata": {},
   "source": [
    "# Capstone Project - The Battle of Neighborhoods (Week 1)"
   ]
  },
  {
   "cell_type": "markdown",
   "metadata": {},
   "source": [
    "####  About the project:\n",
    "\n",
    "1) Turism is one of the main drivers of a lot of italian cities during high season, sometimes being the mein income source of a lot of families and small business. However, it can be a strungle for some tourists to find the right neighborhood in a way that they can explore the gastronomic scenario of the region. On the other hand, knowing in which part of the city there are an aglomeration of tourits can further enhance the business focus/restaurants of the city in order to enhence the local economy."
   ]
  },
  {
   "cell_type": "markdown",
   "metadata": {},
   "source": [
    "#### About the data:\n",
    "\n",
    "2) To achive this, we will use the data provived by foursquare to access the location of hotels & restaurants in the city of Fano (Marche, Italy). \n",
    "The data will be grouped in two groups, one group will be a cluster of the available hotels spread around the city and the second group will be a cluster of the available restaurants.\n",
    "Moreoever, we will use k-means clustering to subdivise the data into the city's neighborhood of the two groups and the intersection of these will yield the locations with the highest/lowest probability for tourist activity and density of restaurants in the city."
   ]
  },
  {
   "cell_type": "code",
   "execution_count": null,
   "metadata": {},
   "outputs": [],
   "source": []
  }
 ],
 "metadata": {
  "kernelspec": {
   "display_name": "Python 3",
   "language": "python",
   "name": "python3"
  },
  "language_info": {
   "codemirror_mode": {
    "name": "ipython",
    "version": 3
   },
   "file_extension": ".py",
   "mimetype": "text/x-python",
   "name": "python",
   "nbconvert_exporter": "python",
   "pygments_lexer": "ipython3",
   "version": "3.7.6"
  }
 },
 "nbformat": 4,
 "nbformat_minor": 4
}
